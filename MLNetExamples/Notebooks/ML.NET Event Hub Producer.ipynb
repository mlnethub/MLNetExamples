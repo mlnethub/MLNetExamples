{
 "cells": [
  {
   "cell_type": "code",
   "execution_count": 7,
   "metadata": {},
   "outputs": [
    {
     "name": "stdout",
     "output_type": "stream",
     "text": [
      "Requirement already satisfied: azure-eventhub in c:\\users\\chron\\anaconda3\\lib\\site-packages (5.0.1)\n",
      "Requirement already satisfied: azure-core<2.0.0,>=1.0.0 in c:\\users\\chron\\anaconda3\\lib\\site-packages (from azure-eventhub) (1.3.0)\n",
      "Requirement already satisfied: uamqp<2.0,>=1.2.5 in c:\\users\\chron\\anaconda3\\lib\\site-packages (from azure-eventhub) (1.2.6)\n",
      "Requirement already satisfied: requests>=2.18.4 in c:\\users\\chron\\anaconda3\\lib\\site-packages (from azure-core<2.0.0,>=1.0.0->azure-eventhub) (2.22.0)\n",
      "Requirement already satisfied: six>=1.6 in c:\\users\\chron\\anaconda3\\lib\\site-packages (from azure-core<2.0.0,>=1.0.0->azure-eventhub) (1.12.0)\n",
      "Requirement already satisfied: certifi>=2017.4.17 in c:\\users\\chron\\anaconda3\\lib\\site-packages (from uamqp<2.0,>=1.2.5->azure-eventhub) (2019.3.9)\n",
      "Requirement already satisfied: chardet<3.1.0,>=3.0.2 in c:\\users\\chron\\anaconda3\\lib\\site-packages (from requests>=2.18.4->azure-core<2.0.0,>=1.0.0->azure-eventhub) (3.0.4)\n",
      "Requirement already satisfied: idna<2.9,>=2.5 in c:\\users\\chron\\anaconda3\\lib\\site-packages (from requests>=2.18.4->azure-core<2.0.0,>=1.0.0->azure-eventhub) (2.8)\n",
      "Requirement already satisfied: urllib3!=1.25.0,!=1.25.1,<1.26,>=1.21.1 in c:\\users\\chron\\anaconda3\\lib\\site-packages (from requests>=2.18.4->azure-core<2.0.0,>=1.0.0->azure-eventhub) (1.24.2)\n",
      "Requirement already satisfied: azure-eventhub-checkpointstoreblob-aio in c:\\users\\chron\\anaconda3\\lib\\site-packages (1.1.0)\n",
      "Requirement already satisfied: msrest>=0.6.10 in c:\\users\\chron\\anaconda3\\lib\\site-packages (from azure-eventhub-checkpointstoreblob-aio) (0.6.11)\n",
      "Requirement already satisfied: azure-core<2.0.0,>=1.2.2 in c:\\users\\chron\\anaconda3\\lib\\site-packages (from azure-eventhub-checkpointstoreblob-aio) (1.3.0)\n",
      "Requirement already satisfied: cryptography>=2.1.4 in c:\\users\\chron\\anaconda3\\lib\\site-packages (from azure-eventhub-checkpointstoreblob-aio) (2.7)\n",
      "Requirement already satisfied: azure-eventhub<6.0.0,>=5.0.0 in c:\\users\\chron\\anaconda3\\lib\\site-packages (from azure-eventhub-checkpointstoreblob-aio) (5.0.1)\n",
      "Requirement already satisfied: aiohttp<4.0,>=3.0 in c:\\users\\chron\\anaconda3\\lib\\site-packages (from azure-eventhub-checkpointstoreblob-aio) (3.6.2)\n",
      "Requirement already satisfied: certifi>=2017.4.17 in c:\\users\\chron\\anaconda3\\lib\\site-packages (from msrest>=0.6.10->azure-eventhub-checkpointstoreblob-aio) (2019.3.9)\n",
      "Requirement already satisfied: isodate>=0.6.0 in c:\\users\\chron\\anaconda3\\lib\\site-packages (from msrest>=0.6.10->azure-eventhub-checkpointstoreblob-aio) (0.6.0)\n",
      "Requirement already satisfied: requests-oauthlib>=0.5.0 in c:\\users\\chron\\anaconda3\\lib\\site-packages (from msrest>=0.6.10->azure-eventhub-checkpointstoreblob-aio) (0.8.0)\n",
      "Requirement already satisfied: requests~=2.16 in c:\\users\\chron\\anaconda3\\lib\\site-packages (from msrest>=0.6.10->azure-eventhub-checkpointstoreblob-aio) (2.22.0)\n",
      "Requirement already satisfied: six>=1.6 in c:\\users\\chron\\anaconda3\\lib\\site-packages (from azure-core<2.0.0,>=1.2.2->azure-eventhub-checkpointstoreblob-aio) (1.12.0)\n",
      "Requirement already satisfied: asn1crypto>=0.21.0 in c:\\users\\chron\\anaconda3\\lib\\site-packages (from cryptography>=2.1.4->azure-eventhub-checkpointstoreblob-aio) (0.24.0)\n",
      "Requirement already satisfied: cffi!=1.11.3,>=1.8 in c:\\users\\chron\\anaconda3\\lib\\site-packages (from cryptography>=2.1.4->azure-eventhub-checkpointstoreblob-aio) (1.12.3)\n",
      "Requirement already satisfied: uamqp<2.0,>=1.2.5 in c:\\users\\chron\\anaconda3\\lib\\site-packages (from azure-eventhub<6.0.0,>=5.0.0->azure-eventhub-checkpointstoreblob-aio) (1.2.6)\n",
      "Requirement already satisfied: yarl<2.0,>=1.0 in c:\\users\\chron\\anaconda3\\lib\\site-packages (from aiohttp<4.0,>=3.0->azure-eventhub-checkpointstoreblob-aio) (1.4.2)\n",
      "Requirement already satisfied: async-timeout<4.0,>=3.0 in c:\\users\\chron\\anaconda3\\lib\\site-packages (from aiohttp<4.0,>=3.0->azure-eventhub-checkpointstoreblob-aio) (3.0.1)\n",
      "Requirement already satisfied: attrs>=17.3.0 in c:\\users\\chron\\anaconda3\\lib\\site-packages (from aiohttp<4.0,>=3.0->azure-eventhub-checkpointstoreblob-aio) (19.1.0)\n",
      "Requirement already satisfied: typing-extensions>=3.6.5; python_version < \"3.7\" in c:\\users\\chron\\anaconda3\\lib\\site-packages (from aiohttp<4.0,>=3.0->azure-eventhub-checkpointstoreblob-aio) (3.6.5)\n",
      "Requirement already satisfied: multidict<5.0,>=4.5 in c:\\users\\chron\\anaconda3\\lib\\site-packages (from aiohttp<4.0,>=3.0->azure-eventhub-checkpointstoreblob-aio) (4.7.5)\n",
      "Requirement already satisfied: idna-ssl>=1.0; python_version < \"3.7\" in c:\\users\\chron\\anaconda3\\lib\\site-packages (from aiohttp<4.0,>=3.0->azure-eventhub-checkpointstoreblob-aio) (1.1.0)\n",
      "Requirement already satisfied: chardet<4.0,>=2.0 in c:\\users\\chron\\anaconda3\\lib\\site-packages (from aiohttp<4.0,>=3.0->azure-eventhub-checkpointstoreblob-aio) (3.0.4)\n",
      "Requirement already satisfied: oauthlib>=0.6.2 in c:\\users\\chron\\anaconda3\\lib\\site-packages (from requests-oauthlib>=0.5.0->msrest>=0.6.10->azure-eventhub-checkpointstoreblob-aio) (2.0.7)\n",
      "Requirement already satisfied: idna<2.9,>=2.5 in c:\\users\\chron\\anaconda3\\lib\\site-packages (from requests~=2.16->msrest>=0.6.10->azure-eventhub-checkpointstoreblob-aio) (2.8)\n",
      "Requirement already satisfied: urllib3!=1.25.0,!=1.25.1,<1.26,>=1.21.1 in c:\\users\\chron\\anaconda3\\lib\\site-packages (from requests~=2.16->msrest>=0.6.10->azure-eventhub-checkpointstoreblob-aio) (1.24.2)\n",
      "Requirement already satisfied: pycparser in c:\\users\\chron\\anaconda3\\lib\\site-packages (from cffi!=1.11.3,>=1.8->cryptography>=2.1.4->azure-eventhub-checkpointstoreblob-aio) (2.19)\n"
     ]
    }
   ],
   "source": [
    "!pip install azure-eventhub\n",
    "!pip install azure-eventhub-checkpointstoreblob-aio"
   ]
  },
  {
   "cell_type": "code",
   "execution_count": 8,
   "metadata": {},
   "outputs": [],
   "source": [
    "from azure.eventhub.aio import EventHubProducerClient\n",
    "from azure.eventhub import EventData\n",
    "import json"
   ]
  },
  {
   "cell_type": "code",
   "execution_count": 9,
   "metadata": {},
   "outputs": [],
   "source": [
    "connection_string = \"Event hub connection string\""
   ]
  },
  {
   "cell_type": "code",
   "execution_count": 16,
   "metadata": {},
   "outputs": [],
   "source": [
    "producer = EventHubProducerClient.from_connection_string(conn_str=connection_string, eventhub_name=\"housingpredict\")\n",
    "\n",
    "event_data = await producer.create_batch()\n",
    "    \n",
    "data = {\n",
    "    \"longitude\": -122.33,\n",
    "    \"latitude\": 37.85,\n",
    "    \"housing_median_age\": 52.0,\n",
    "    \"total_rooms\": 751.0,\n",
    "    \"total_bedrooms\": 1228.0,\n",
    "    \"population\": 910.0,\n",
    "    \"households\": 734.0,\n",
    "    \"median_income\": 3.12,\n",
    "    \"ocean_proximity\": \"INLAND\"\n",
    "}\n",
    "\n",
    "event_data.add(EventData(json.dumps(data)))\n",
    "\n",
    "await producer.send_batch(event_data)"
   ]
  }
 ],
 "metadata": {
  "kernelspec": {
   "display_name": "Python 3",
   "language": "python",
   "name": "python3"
  },
  "language_info": {
   "codemirror_mode": {
    "name": "ipython",
    "version": 3
   },
   "file_extension": ".py",
   "mimetype": "text/x-python",
   "name": "python",
   "nbconvert_exporter": "python",
   "pygments_lexer": "ipython3",
   "version": "3.6.8"
  }
 },
 "nbformat": 4,
 "nbformat_minor": 2
}
