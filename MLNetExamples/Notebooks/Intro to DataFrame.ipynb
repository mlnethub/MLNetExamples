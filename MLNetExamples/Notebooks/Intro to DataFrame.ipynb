{
 "cells": [
  {
   "cell_type": "code",
   "execution_count": null,
   "metadata": {},
   "outputs": [
    {
     "data": {
      "text/html": [
       "Attempting to install package Microsoft.Data.Analysis..................done!"
      ]
     },
     "metadata": {},
     "output_type": "display_data"
    },
    {
     "data": {
      "text/html": [
       "Successfully added reference to package Microsoft.Data.Analysis, version 0.2.0"
      ]
     },
     "metadata": {},
     "output_type": "display_data"
    }
   ],
   "source": [
    "#r \"nuget:Microsoft.Data.Analysis\""
   ]
  },
  {
   "cell_type": "code",
   "execution_count": 8,
   "metadata": {},
   "outputs": [],
   "source": [
    "using Microsoft.Data.Analysis;"
   ]
  },
  {
   "cell_type": "code",
   "execution_count": 43,
   "metadata": {},
   "outputs": [],
   "source": [
    "using Microsoft.AspNetCore.Html;\n",
    "Formatter<DataFrame>.Register((df, writer) =>\n",
    "{\n",
    "    var headers = new List<IHtmlContent>();\n",
    "    headers.Add(th(i(\"index\")));\n",
    "    headers.AddRange(df.Columns.Select(c => (IHtmlContent) th(c.Name)));\n",
    "    var rows = new List<List<IHtmlContent>>();\n",
    "    var take = 10;\n",
    "    for (var i = 0; i < Math.Min(take, df.Rows.Count); i++)\n",
    "    {\n",
    "        var cells = new List<IHtmlContent>();\n",
    "        cells.Add(td(i));\n",
    "        foreach (var obj in df.Rows[i])\n",
    "        {\n",
    "            cells.Add(td(obj));\n",
    "        }\n",
    "        rows.Add(cells);\n",
    "    }\n",
    "\n",
    "    var t = table(\n",
    "        thead(\n",
    "            headers),\n",
    "        tbody(\n",
    "            rows.Select(\n",
    "                r => tr(r))));\n",
    "\n",
    "    writer.Write(t);\n",
    "}, \"text/html\");"
   ]
  },
  {
   "cell_type": "code",
   "execution_count": 44,
   "metadata": {},
   "outputs": [
    {
     "data": {
      "text/html": [
       "<table><thead><th><i>index</i></th><th>longitude</th><th>latitude</th><th>housing_median_age</th><th>total_rooms</th><th>total_bedrooms</th><th>population</th><th>households</th><th>median_income</th><th>median_house_value</th><th>ocean_proximity</th></thead><tbody><tr><td>0</td><td>-122.23</td><td>37.88</td><td>41</td><td>880</td><td>129</td><td>322</td><td>126</td><td>8.3252</td><td>452600</td><td>NEAR BAY</td></tr><tr><td>1</td><td>-122.22</td><td>37.86</td><td>21</td><td>7099</td><td>1106</td><td>2401</td><td>1138</td><td>8.3014</td><td>358500</td><td>NEAR BAY</td></tr><tr><td>2</td><td>-122.24</td><td>37.85</td><td>52</td><td>1467</td><td>190</td><td>496</td><td>177</td><td>7.2574</td><td>352100</td><td>NEAR BAY</td></tr><tr><td>3</td><td>-122.25</td><td>37.85</td><td>52</td><td>1274</td><td>235</td><td>558</td><td>219</td><td>5.6431</td><td>341300</td><td>NEAR BAY</td></tr><tr><td>4</td><td>-122.25</td><td>37.85</td><td>52</td><td>1627</td><td>280</td><td>565</td><td>259</td><td>3.8462</td><td>342200</td><td>NEAR BAY</td></tr><tr><td>5</td><td>-122.25</td><td>37.85</td><td>52</td><td>919</td><td>213</td><td>413</td><td>193</td><td>4.0368</td><td>269700</td><td>NEAR BAY</td></tr><tr><td>6</td><td>-122.25</td><td>37.84</td><td>52</td><td>2535</td><td>489</td><td>1094</td><td>514</td><td>3.6591</td><td>299200</td><td>NEAR BAY</td></tr><tr><td>7</td><td>-122.25</td><td>37.84</td><td>52</td><td>3104</td><td>687</td><td>1157</td><td>647</td><td>3.12</td><td>241400</td><td>NEAR BAY</td></tr><tr><td>8</td><td>-122.26</td><td>37.84</td><td>42</td><td>2555</td><td>665</td><td>1206</td><td>595</td><td>2.0804</td><td>226700</td><td>NEAR BAY</td></tr><tr><td>9</td><td>-122.25</td><td>37.84</td><td>52</td><td>3549</td><td>707</td><td>1551</td><td>714</td><td>3.6912</td><td>261100</td><td>NEAR BAY</td></tr></tbody></table>"
      ]
     },
     "execution_count": 44,
     "metadata": {},
     "output_type": "execute_result"
    }
   ],
   "source": [
    "var data = DataFrame.LoadCsv(\"./housing.csv\");\n",
    "data"
   ]
  },
  {
   "cell_type": "code",
   "execution_count": 40,
   "metadata": {},
   "outputs": [
    {
     "data": {
      "text/html": [
       "<table><thead><th><i>index</i></th><th>Info</th><th>longitude</th><th>latitude</th><th>housing_median_age</th><th>total_rooms</th><th>total_bedrooms</th><th>population</th><th>households</th><th>median_income</th><th>median_house_value</th><th>ocean_proximity</th></thead><tbody><tr><td>0</td><td>DataType</td><td>System.Single</td><td>System.Single</td><td>System.Single</td><td>System.Single</td><td>System.Single</td><td>System.Single</td><td>System.Single</td><td>System.Single</td><td>System.Single</td><td>System.String</td></tr><tr><td>1</td><td>Length (excluding null values)</td><td>20640</td><td>20640</td><td>20640</td><td>20640</td><td>20433</td><td>20640</td><td>20640</td><td>20640</td><td>20640</td><td>20640</td></tr></tbody></table>"
      ]
     },
     "execution_count": 40,
     "metadata": {},
     "output_type": "execute_result"
    }
   ],
   "source": [
    "data.Info()"
   ]
  },
  {
   "cell_type": "code",
   "execution_count": 42,
   "metadata": {},
   "outputs": [
    {
     "data": {
      "text/html": [
       "<table><thead><th><i>index</i></th><th>Description</th><th>longitude</th><th>latitude</th><th>housing_median_age</th><th>total_rooms</th><th>total_bedrooms</th><th>population</th><th>households</th><th>median_income</th><th>median_house_value</th></thead><tbody><tr><td>0</td><td>Length (excluding null values)</td><td>20640</td><td>20640</td><td>20640</td><td>20640</td><td>20433</td><td>20640</td><td>20640</td><td>20640</td><td>20640</td></tr><tr><td>1</td><td>Max</td><td>-114.31</td><td>41.95</td><td>52</td><td>39320</td><td>6445</td><td>35682</td><td>6082</td><td>15.0001</td><td>500001</td></tr><tr><td>2</td><td>Min</td><td>-124.35</td><td>32.54</td><td>1</td><td>2</td><td>0</td><td>3</td><td>1</td><td>0.4999</td><td>14999</td></tr><tr><td>3</td><td>Mean</td><td>-119.569115</td><td>35.631866</td><td>28.639486</td><td>2635.7588</td><td>532.4762</td><td>1425.4779</td><td>499.53967</td><td>3.8706622</td><td>206854.97</td></tr></tbody></table>"
      ]
     },
     "execution_count": 42,
     "metadata": {},
     "output_type": "execute_result"
    }
   ],
   "source": [
    "data.Description()"
   ]
  },
  {
   "cell_type": "code",
   "execution_count": 46,
   "metadata": {},
   "outputs": [
    {
     "data": {
      "text/html": [
       "<table><thead><tr><th><i>index</i></th><th>NullCount</th><th>Length</th><th>Name</th><th>DataType</th></tr></thead><tbody><tr><td>0</td><td>0</td><td>20640</td><td>longitude</td><td>Single</td></tr><tr><td>1</td><td>0</td><td>20640</td><td>latitude</td><td>Single</td></tr><tr><td>2</td><td>0</td><td>20640</td><td>housing_median_age</td><td>Single</td></tr><tr><td>3</td><td>0</td><td>20640</td><td>total_rooms</td><td>Single</td></tr><tr><td>4</td><td>207</td><td>20640</td><td>total_bedrooms</td><td>Single</td></tr><tr><td>5</td><td>0</td><td>20640</td><td>population</td><td>Single</td></tr><tr><td>6</td><td>0</td><td>20640</td><td>households</td><td>Single</td></tr><tr><td>7</td><td>0</td><td>20640</td><td>median_income</td><td>Single</td></tr><tr><td>8</td><td>0</td><td>20640</td><td>median_house_value</td><td>Single</td></tr><tr><td>9</td><td>0</td><td>20640</td><td>ocean_proximity</td><td>String</td></tr></tbody></table>"
      ]
     },
     "execution_count": 46,
     "metadata": {},
     "output_type": "execute_result"
    }
   ],
   "source": [
    "data.Columns"
   ]
  },
  {
   "cell_type": "code",
   "execution_count": 57,
   "metadata": {},
   "outputs": [
    {
     "data": {
      "text/plain": [
       "longitude"
      ]
     },
     "execution_count": 57,
     "metadata": {},
     "output_type": "execute_result"
    }
   ],
   "source": [
    "data.Columns[0].Name"
   ]
  },
  {
   "cell_type": "code",
   "execution_count": 75,
   "metadata": {},
   "outputs": [
    {
     "data": {
      "text/html": [
       "<table><thead><th><i>index</i></th><th>HOUSE_longitude</th><th>HOUSE_latitude</th><th>HOUSE_housing_median_age</th><th>HOUSE_total_rooms</th><th>HOUSE_total_bedrooms</th><th>HOUSE_population</th><th>HOUSE_households</th><th>HOUSE_median_income</th><th>HOUSE_median_house_value</th><th>HOUSE_ocean_proximity</th></thead><tbody><tr><td>0</td><td>-122.23</td><td>37.88</td><td>41</td><td>880</td><td>129</td><td>322</td><td>126</td><td>8.3252</td><td>452600</td><td>NEAR BAY</td></tr><tr><td>1</td><td>-122.22</td><td>37.86</td><td>21</td><td>7099</td><td>1106</td><td>2401</td><td>1138</td><td>8.3014</td><td>358500</td><td>NEAR BAY</td></tr><tr><td>2</td><td>-122.24</td><td>37.85</td><td>52</td><td>1467</td><td>190</td><td>496</td><td>177</td><td>7.2574</td><td>352100</td><td>NEAR BAY</td></tr><tr><td>3</td><td>-122.25</td><td>37.85</td><td>52</td><td>1274</td><td>235</td><td>558</td><td>219</td><td>5.6431</td><td>341300</td><td>NEAR BAY</td></tr><tr><td>4</td><td>-122.25</td><td>37.85</td><td>52</td><td>1627</td><td>280</td><td>565</td><td>259</td><td>3.8462</td><td>342200</td><td>NEAR BAY</td></tr><tr><td>5</td><td>-122.25</td><td>37.85</td><td>52</td><td>919</td><td>213</td><td>413</td><td>193</td><td>4.0368</td><td>269700</td><td>NEAR BAY</td></tr><tr><td>6</td><td>-122.25</td><td>37.84</td><td>52</td><td>2535</td><td>489</td><td>1094</td><td>514</td><td>3.6591</td><td>299200</td><td>NEAR BAY</td></tr><tr><td>7</td><td>-122.25</td><td>37.84</td><td>52</td><td>3104</td><td>687</td><td>1157</td><td>647</td><td>3.12</td><td>241400</td><td>NEAR BAY</td></tr><tr><td>8</td><td>-122.26</td><td>37.84</td><td>42</td><td>2555</td><td>665</td><td>1206</td><td>595</td><td>2.0804</td><td>226700</td><td>NEAR BAY</td></tr><tr><td>9</td><td>-122.25</td><td>37.84</td><td>52</td><td>3549</td><td>707</td><td>1551</td><td>714</td><td>3.6912</td><td>261100</td><td>NEAR BAY</td></tr></tbody></table>"
      ]
     },
     "execution_count": 75,
     "metadata": {},
     "output_type": "execute_result"
    }
   ],
   "source": [
    "data.AddPrefix(\"HOUSE_\")"
   ]
  },
  {
   "cell_type": "code",
   "execution_count": 76,
   "metadata": {},
   "outputs": [
    {
     "data": {
      "text/html": [
       "<table><thead><th><i>index</i></th><th>longitude_data</th><th>latitude_data</th><th>housing_median_age_data</th><th>total_rooms_data</th><th>total_bedrooms_data</th><th>population_data</th><th>households_data</th><th>median_income_data</th><th>median_house_value_data</th><th>ocean_proximity_data</th></thead><tbody><tr><td>0</td><td>-122.23</td><td>37.88</td><td>41</td><td>880</td><td>129</td><td>322</td><td>126</td><td>8.3252</td><td>452600</td><td>NEAR BAY</td></tr><tr><td>1</td><td>-122.22</td><td>37.86</td><td>21</td><td>7099</td><td>1106</td><td>2401</td><td>1138</td><td>8.3014</td><td>358500</td><td>NEAR BAY</td></tr><tr><td>2</td><td>-122.24</td><td>37.85</td><td>52</td><td>1467</td><td>190</td><td>496</td><td>177</td><td>7.2574</td><td>352100</td><td>NEAR BAY</td></tr><tr><td>3</td><td>-122.25</td><td>37.85</td><td>52</td><td>1274</td><td>235</td><td>558</td><td>219</td><td>5.6431</td><td>341300</td><td>NEAR BAY</td></tr><tr><td>4</td><td>-122.25</td><td>37.85</td><td>52</td><td>1627</td><td>280</td><td>565</td><td>259</td><td>3.8462</td><td>342200</td><td>NEAR BAY</td></tr><tr><td>5</td><td>-122.25</td><td>37.85</td><td>52</td><td>919</td><td>213</td><td>413</td><td>193</td><td>4.0368</td><td>269700</td><td>NEAR BAY</td></tr><tr><td>6</td><td>-122.25</td><td>37.84</td><td>52</td><td>2535</td><td>489</td><td>1094</td><td>514</td><td>3.6591</td><td>299200</td><td>NEAR BAY</td></tr><tr><td>7</td><td>-122.25</td><td>37.84</td><td>52</td><td>3104</td><td>687</td><td>1157</td><td>647</td><td>3.12</td><td>241400</td><td>NEAR BAY</td></tr><tr><td>8</td><td>-122.26</td><td>37.84</td><td>42</td><td>2555</td><td>665</td><td>1206</td><td>595</td><td>2.0804</td><td>226700</td><td>NEAR BAY</td></tr><tr><td>9</td><td>-122.25</td><td>37.84</td><td>52</td><td>3549</td><td>707</td><td>1551</td><td>714</td><td>3.6912</td><td>261100</td><td>NEAR BAY</td></tr></tbody></table>"
      ]
     },
     "execution_count": 76,
     "metadata": {},
     "output_type": "execute_result"
    }
   ],
   "source": [
    "data.AddSuffix(\"_data\")"
   ]
  },
  {
   "cell_type": "code",
   "execution_count": 49,
   "metadata": {},
   "outputs": [
    {
     "data": {
      "text/html": [
       "<table><thead><tr><th><i>index</i></th><th></th></tr></thead><tbody><tr><td>0</td><td>-122.2337.88418801293221268.3252452600NEAR BAY</td></tr><tr><td>1</td><td>-122.2237.862170991106240111388.3014358500NEAR BAY</td></tr><tr><td>2</td><td>-122.2437.855214671904961777.2574352100NEAR BAY</td></tr><tr><td>3</td><td>-122.2537.855212742355582195.6431341300NEAR BAY</td></tr><tr><td>4</td><td>-122.2537.855216272805652593.8462342200NEAR BAY</td></tr></tbody></table>"
      ]
     },
     "execution_count": 49,
     "metadata": {},
     "output_type": "execute_result"
    }
   ],
   "source": [
    "data.Rows.Take(5)"
   ]
  },
  {
   "cell_type": "code",
   "execution_count": 53,
   "metadata": {},
   "outputs": [
    {
     "data": {
      "text/html": [
       "<table><thead><th><i>index</i></th><th>longitude</th><th>latitude</th><th>housing_median_age</th><th>total_rooms</th><th>total_bedrooms</th><th>population</th><th>households</th><th>median_income</th><th>median_house_value</th><th>ocean_proximity</th></thead><tbody><tr><td>0</td><td>-122.23</td><td>37.88</td><td>41</td><td>880</td><td>129</td><td>322</td><td>126</td><td>8.3252</td><td>452600</td><td>NEAR BAY</td></tr><tr><td>1</td><td>-122.22</td><td>37.86</td><td>21</td><td>7099</td><td>1106</td><td>2401</td><td>1138</td><td>8.3014</td><td>358500</td><td>NEAR BAY</td></tr><tr><td>2</td><td>-122.24</td><td>37.85</td><td>52</td><td>1467</td><td>190</td><td>496</td><td>177</td><td>7.2574</td><td>352100</td><td>NEAR BAY</td></tr><tr><td>3</td><td>-122.25</td><td>37.85</td><td>52</td><td>1274</td><td>235</td><td>558</td><td>219</td><td>5.6431</td><td>341300</td><td>NEAR BAY</td></tr><tr><td>4</td><td>-122.25</td><td>37.85</td><td>52</td><td>1627</td><td>280</td><td>565</td><td>259</td><td>3.8462</td><td>342200</td><td>NEAR BAY</td></tr><tr><td>5</td><td>-122.25</td><td>37.85</td><td>52</td><td>919</td><td>213</td><td>413</td><td>193</td><td>4.0368</td><td>269700</td><td>NEAR BAY</td></tr><tr><td>6</td><td>-122.25</td><td>37.84</td><td>52</td><td>2535</td><td>489</td><td>1094</td><td>514</td><td>3.6591</td><td>299200</td><td>NEAR BAY</td></tr><tr><td>7</td><td>-122.25</td><td>37.84</td><td>52</td><td>3104</td><td>687</td><td>1157</td><td>647</td><td>3.12</td><td>241400</td><td>NEAR BAY</td></tr><tr><td>8</td><td>-122.26</td><td>37.84</td><td>42</td><td>2555</td><td>665</td><td>1206</td><td>595</td><td>2.0804</td><td>226700</td><td>NEAR BAY</td></tr><tr><td>9</td><td>-122.25</td><td>37.84</td><td>52</td><td>3549</td><td>707</td><td>1551</td><td>714</td><td>3.6912</td><td>261100</td><td>NEAR BAY</td></tr></tbody></table>"
      ]
     },
     "execution_count": 53,
     "metadata": {},
     "output_type": "execute_result"
    }
   ],
   "source": [
    "var newDf = data.Clone();\n",
    "newDf"
   ]
  },
  {
   "cell_type": "code",
   "execution_count": 63,
   "metadata": {},
   "outputs": [
    {
     "data": {
      "text/html": [
       "<table><thead><th><i>index</i></th><th>longitude</th><th>latitude</th><th>housing_median_age</th><th>total_rooms</th><th>total_bedrooms</th><th>population</th><th>households</th><th>median_income</th><th>median_house_value</th><th>ocean_proximity</th></thead><tbody><tr><td>0</td><td>-121.28</td><td>37.94</td><td>48</td><td>1766</td><td>444</td><td>1406</td><td>421</td><td>1.7039</td><td>52700</td><td>INLAND</td></tr><tr><td>1</td><td>-115.73</td><td>33.35</td><td>23</td><td>1586</td><td>448</td><td>338</td><td>182</td><td>1.2132</td><td>30000</td><td>INLAND</td></tr><tr><td>2</td><td>-118.38</td><td>34.19</td><td>30</td><td>977</td><td>264</td><td>736</td><td>258</td><td>1.9866</td><td>177400</td><td>&lt;1H OCEAN</td></tr><tr><td>3</td><td>-122.22</td><td>37.79</td><td>38</td><td>3049</td><td>711</td><td>2167</td><td>659</td><td>2.7969</td><td>141700</td><td>NEAR BAY</td></tr><tr><td>4</td><td>-118.09</td><td>33.81</td><td>36</td><td>1878</td><td>323</td><td>846</td><td>325</td><td>7.1937</td><td>254400</td><td>&lt;1H OCEAN</td></tr><tr><td>5</td><td>-117.74</td><td>34.1</td><td>29</td><td>2742</td><td>488</td><td>2477</td><td>532</td><td>3.5072</td><td>121900</td><td>INLAND</td></tr><tr><td>6</td><td>-121.29</td><td>37.95</td><td>52</td><td>107</td><td>79</td><td>167</td><td>53</td><td>0.7917</td><td>22500</td><td>INLAND</td></tr><tr><td>7</td><td>-121.86</td><td>37</td><td>16</td><td>8638</td><td>1392</td><td>3706</td><td>1251</td><td>5.503</td><td>351800</td><td>&lt;1H OCEAN</td></tr><tr><td>8</td><td>-120.48</td><td>37.29</td><td>17</td><td>2266</td><td>693</td><td>3200</td><td>664</td><td>1.5635</td><td>60400</td><td>INLAND</td></tr><tr><td>9</td><td>-122.02</td><td>37.31</td><td>33</td><td>2563</td><td>434</td><td>1230</td><td>418</td><td>6.3197</td><td>340100</td><td>&lt;1H OCEAN</td></tr></tbody></table>"
      ]
     },
     "execution_count": 63,
     "metadata": {},
     "output_type": "execute_result"
    }
   ],
   "source": [
    "data.Sample(10)"
   ]
  },
  {
   "cell_type": "code",
   "execution_count": 61,
   "metadata": {},
   "outputs": [
    {
     "data": {
      "text/html": [
       "<table><thead><th><i>index</i></th><th>longitude</th><th>latitude</th><th>housing_median_age</th><th>total_rooms</th><th>total_bedrooms</th><th>population</th><th>households</th><th>median_income</th><th>median_house_value</th><th>ocean_proximity</th></thead><tbody><tr><td>0</td><td>-122.23</td><td>37.88</td><td>41</td><td>880</td><td>129</td><td>322</td><td>126</td><td>8.3252</td><td>452600</td><td>NEAR BAY</td></tr><tr><td>1</td><td>-122.22</td><td>37.86</td><td>21</td><td>7099</td><td>1106</td><td>2401</td><td>1138</td><td>8.3014</td><td>358500</td><td>NEAR BAY</td></tr><tr><td>2</td><td>-122.24</td><td>37.85</td><td>52</td><td>1467</td><td>190</td><td>496</td><td>177</td><td>7.2574</td><td>352100</td><td>NEAR BAY</td></tr><tr><td>3</td><td>-122.25</td><td>37.85</td><td>52</td><td>1274</td><td>235</td><td>558</td><td>219</td><td>5.6431</td><td>341300</td><td>NEAR BAY</td></tr><tr><td>4</td><td>-122.25</td><td>37.85</td><td>52</td><td>1627</td><td>280</td><td>565</td><td>259</td><td>3.8462</td><td>342200</td><td>NEAR BAY</td></tr><tr><td>5</td><td>-122.25</td><td>37.85</td><td>52</td><td>919</td><td>213</td><td>413</td><td>193</td><td>4.0368</td><td>269700</td><td>NEAR BAY</td></tr><tr><td>6</td><td>-122.25</td><td>37.84</td><td>52</td><td>2535</td><td>489</td><td>1094</td><td>514</td><td>3.6591</td><td>299200</td><td>NEAR BAY</td></tr><tr><td>7</td><td>-122.25</td><td>37.84</td><td>52</td><td>3104</td><td>687</td><td>1157</td><td>647</td><td>3.12</td><td>241400</td><td>NEAR BAY</td></tr><tr><td>8</td><td>-122.26</td><td>37.84</td><td>42</td><td>2555</td><td>665</td><td>1206</td><td>595</td><td>2.0804</td><td>226700</td><td>NEAR BAY</td></tr><tr><td>9</td><td>-122.25</td><td>37.84</td><td>52</td><td>3549</td><td>707</td><td>1551</td><td>714</td><td>3.6912</td><td>261100</td><td>NEAR BAY</td></tr></tbody></table>"
      ]
     },
     "execution_count": 61,
     "metadata": {},
     "output_type": "execute_result"
    }
   ],
   "source": [
    "data.Head(10)"
   ]
  },
  {
   "cell_type": "code",
   "execution_count": 68,
   "metadata": {},
   "outputs": [
    {
     "data": {
      "text/html": [
       "<table><thead><th><i>index</i></th><th>longitude</th><th>latitude</th><th>housing_median_age</th><th>total_rooms</th><th>total_bedrooms</th><th>population</th><th>households</th><th>median_income</th><th>median_house_value</th><th>ocean_proximity</th></thead><tbody><tr><td>0</td><td>-121.32</td><td>39.29</td><td>11</td><td>2640</td><td>505</td><td>1257</td><td>445</td><td>3.5673</td><td>112000</td><td>INLAND</td></tr><tr><td>1</td><td>-121.4</td><td>39.33</td><td>15</td><td>2655</td><td>493</td><td>1200</td><td>432</td><td>3.5179</td><td>107200</td><td>INLAND</td></tr><tr><td>2</td><td>-121.45</td><td>39.26</td><td>15</td><td>2319</td><td>416</td><td>1047</td><td>385</td><td>3.125</td><td>115600</td><td>INLAND</td></tr><tr><td>3</td><td>-121.53</td><td>39.19</td><td>27</td><td>2080</td><td>412</td><td>1082</td><td>382</td><td>2.5495</td><td>98300</td><td>INLAND</td></tr><tr><td>4</td><td>-121.56</td><td>39.27</td><td>28</td><td>2332</td><td>395</td><td>1041</td><td>344</td><td>3.7125</td><td>116800</td><td>INLAND</td></tr><tr><td>5</td><td>-121.09</td><td>39.48</td><td>25</td><td>1665</td><td>374</td><td>845</td><td>330</td><td>1.5603</td><td>78100</td><td>INLAND</td></tr><tr><td>6</td><td>-121.21</td><td>39.49</td><td>18</td><td>697</td><td>150</td><td>356</td><td>114</td><td>2.5568</td><td>77100</td><td>INLAND</td></tr><tr><td>7</td><td>-121.22</td><td>39.43</td><td>17</td><td>2254</td><td>485</td><td>1007</td><td>433</td><td>1.7</td><td>92300</td><td>INLAND</td></tr><tr><td>8</td><td>-121.32</td><td>39.43</td><td>18</td><td>1860</td><td>409</td><td>741</td><td>349</td><td>1.8672</td><td>84700</td><td>INLAND</td></tr><tr><td>9</td><td>-121.24</td><td>39.37</td><td>16</td><td>2785</td><td>616</td><td>1387</td><td>530</td><td>2.3886</td><td>89400</td><td>INLAND</td></tr></tbody></table>"
      ]
     },
     "execution_count": 68,
     "metadata": {},
     "output_type": "execute_result"
    }
   ],
   "source": [
    "data.Tail(10)"
   ]
  },
  {
   "cell_type": "code",
   "execution_count": 77,
   "metadata": {},
   "outputs": [
    {
     "data": {
      "text/html": [
       "<table><thead><th><i>index</i></th><th>longitude</th><th>latitude</th><th>housing_median_age</th><th>total_rooms</th><th>total_bedrooms</th><th>population</th><th>households</th><th>median_income</th><th>median_house_value</th><th>ocean_proximity</th></thead><tbody><tr><td>0</td><td>-122.23</td><td>37.88</td><td>41</td><td>880</td><td>129</td><td>322</td><td>126</td><td>8.3252</td><td>452600</td><td>NEAR BAY</td></tr><tr><td>1</td><td>-122.22</td><td>37.86</td><td>21</td><td>7099</td><td>1106</td><td>2401</td><td>1138</td><td>8.3014</td><td>358500</td><td>NEAR BAY</td></tr><tr><td>2</td><td>-122.24</td><td>37.85</td><td>52</td><td>1467</td><td>190</td><td>496</td><td>177</td><td>7.2574</td><td>352100</td><td>NEAR BAY</td></tr><tr><td>3</td><td>-122.25</td><td>37.85</td><td>52</td><td>1274</td><td>235</td><td>558</td><td>219</td><td>5.6431</td><td>341300</td><td>NEAR BAY</td></tr><tr><td>4</td><td>-122.25</td><td>37.85</td><td>52</td><td>1627</td><td>280</td><td>565</td><td>259</td><td>3.8462</td><td>342200</td><td>NEAR BAY</td></tr><tr><td>5</td><td>-122.25</td><td>37.85</td><td>52</td><td>919</td><td>213</td><td>413</td><td>193</td><td>4.0368</td><td>269700</td><td>NEAR BAY</td></tr><tr><td>6</td><td>-122.25</td><td>37.84</td><td>52</td><td>2535</td><td>489</td><td>1094</td><td>514</td><td>3.6591</td><td>299200</td><td>NEAR BAY</td></tr><tr><td>7</td><td>-122.25</td><td>37.84</td><td>52</td><td>3104</td><td>687</td><td>1157</td><td>647</td><td>3.12</td><td>241400</td><td>NEAR BAY</td></tr><tr><td>8</td><td>-122.26</td><td>37.84</td><td>42</td><td>2555</td><td>665</td><td>1206</td><td>595</td><td>2.0804</td><td>226700</td><td>NEAR BAY</td></tr><tr><td>9</td><td>-122.25</td><td>37.84</td><td>52</td><td>3549</td><td>707</td><td>1551</td><td>714</td><td>3.6912</td><td>261100</td><td>NEAR BAY</td></tr></tbody></table>"
      ]
     },
     "execution_count": 77,
     "metadata": {},
     "output_type": "execute_result"
    }
   ],
   "source": [
    "data.DropNulls()"
   ]
  },
  {
   "cell_type": "code",
   "execution_count": 82,
   "metadata": {},
   "outputs": [
    {
     "data": {
      "text/html": [
       "<table><thead><th><i>index</i></th><th>longitude</th><th>latitude</th><th>housing_median_age</th><th>total_rooms</th><th>total_bedrooms</th><th>population</th><th>households</th><th>median_income</th><th>median_house_value</th><th>ocean_proximity</th></thead><tbody><tr><td>0</td><td>-122.23</td><td>37.88</td><td>41</td><td>880</td><td>129</td><td>322</td><td>126</td><td>8.3252</td><td>452600</td><td>NEAR BAY</td></tr><tr><td>1</td><td>-122.22</td><td>37.86</td><td>21</td><td>7099</td><td>1106</td><td>2401</td><td>1138</td><td>8.3014</td><td>358500</td><td>NEAR BAY</td></tr><tr><td>2</td><td>-122.24</td><td>37.85</td><td>52</td><td>1467</td><td>190</td><td>496</td><td>177</td><td>7.2574</td><td>352100</td><td>NEAR BAY</td></tr><tr><td>3</td><td>-122.25</td><td>37.85</td><td>52</td><td>1274</td><td>235</td><td>558</td><td>219</td><td>5.6431</td><td>341300</td><td>NEAR BAY</td></tr><tr><td>4</td><td>-122.25</td><td>37.85</td><td>52</td><td>1627</td><td>280</td><td>565</td><td>259</td><td>3.8462</td><td>342200</td><td>NEAR BAY</td></tr><tr><td>5</td><td>-122.25</td><td>37.85</td><td>52</td><td>919</td><td>213</td><td>413</td><td>193</td><td>4.0368</td><td>269700</td><td>NEAR BAY</td></tr><tr><td>6</td><td>-122.25</td><td>37.84</td><td>52</td><td>2535</td><td>489</td><td>1094</td><td>514</td><td>3.6591</td><td>299200</td><td>NEAR BAY</td></tr><tr><td>7</td><td>-122.25</td><td>37.84</td><td>52</td><td>3104</td><td>687</td><td>1157</td><td>647</td><td>3.12</td><td>241400</td><td>NEAR BAY</td></tr><tr><td>8</td><td>-122.26</td><td>37.84</td><td>42</td><td>2555</td><td>665</td><td>1206</td><td>595</td><td>2.0804</td><td>226700</td><td>NEAR BAY</td></tr><tr><td>9</td><td>-122.25</td><td>37.84</td><td>52</td><td>3549</td><td>707</td><td>1551</td><td>714</td><td>3.6912</td><td>261100</td><td>NEAR BAY</td></tr></tbody></table>"
      ]
     },
     "execution_count": 82,
     "metadata": {},
     "output_type": "execute_result"
    }
   ],
   "source": [
    "var bedroomsMean = data[\"total_bedrooms\"].Mean();\n",
    "\n",
    "data = data.FillNulls(bedroomsMean.ToString());\n",
    "data"
   ]
  },
  {
   "cell_type": "code",
   "execution_count": 83,
   "metadata": {},
   "outputs": [
    {
     "data": {
      "text/html": [
       "<table><thead><th><i>index</i></th><th>longitude</th><th>latitude</th><th>housing_median_age</th><th>total_rooms</th><th>total_bedrooms</th><th>population</th><th>households</th><th>median_income</th><th>median_house_value</th><th>ocean_proximity</th></thead><tbody><tr><td>0</td><td>-117.95</td><td>35.08</td><td>1</td><td>83</td><td>15</td><td>32</td><td>15</td><td>4.875</td><td>141700</td><td>INLAND</td></tr><tr><td>1</td><td>-120.93</td><td>37.65</td><td>1</td><td>2254</td><td>328</td><td>402</td><td>112</td><td>4.25</td><td>189200</td><td>INLAND</td></tr><tr><td>2</td><td>-116.95</td><td>33.86</td><td>1</td><td>6</td><td>2</td><td>8</td><td>2</td><td>1.625</td><td>55000</td><td>INLAND</td></tr><tr><td>3</td><td>-122</td><td>38.23</td><td>1</td><td>2062</td><td>343</td><td>872</td><td>268</td><td>5.2636</td><td>191300</td><td>INLAND</td></tr><tr><td>4</td><td>-119.67</td><td>36.82</td><td>2</td><td>2579</td><td>376</td><td>1133</td><td>342</td><td>4.5577</td><td>123300</td><td>INLAND</td></tr><tr><td>5</td><td>-121.45</td><td>37.72</td><td>2</td><td>2239</td><td>321</td><td>766</td><td>219</td><td>5.75</td><td>240200</td><td>INLAND</td></tr><tr><td>6</td><td>-117.71</td><td>33.58</td><td>2</td><td>2530</td><td>562</td><td>1066</td><td>510</td><td>4.6336</td><td>187500</td><td>&lt;1H OCEAN</td></tr><tr><td>7</td><td>-117.52</td><td>33.89</td><td>2</td><td>17978</td><td>3217</td><td>7305</td><td>2463</td><td>5.1695</td><td>220800</td><td>INLAND</td></tr><tr><td>8</td><td>-121.89</td><td>37.39</td><td>2</td><td>1136</td><td>365</td><td>535</td><td>257</td><td>4.375</td><td>425000</td><td>&lt;1H OCEAN</td></tr><tr><td>9</td><td>-117.23</td><td>33.83</td><td>2</td><td>1424</td><td>251</td><td>681</td><td>192</td><td>4.0833</td><td>100000</td><td>INLAND</td></tr></tbody></table>"
      ]
     },
     "execution_count": 83,
     "metadata": {},
     "output_type": "execute_result"
    }
   ],
   "source": [
    "data.Sort(\"housing_median_age\")"
   ]
  },
  {
   "cell_type": "code",
   "execution_count": 123,
   "metadata": {},
   "outputs": [
    {
     "data": {
      "text/html": [
       "<table><thead><th><i>index</i></th><th>longitude</th><th>latitude</th><th>housing_median_age</th><th>total_rooms</th><th>total_bedrooms</th><th>population</th><th>households</th><th>median_income</th><th>median_house_value</th><th>ocean_proximity</th></thead><tbody><tr><td>0</td><td>-122.27</td><td>37.85</td><td>52</td><td>335</td><td>83</td><td>152</td><td>77</td><td>2.2841</td><td>106300</td><td>NEAR BAY</td></tr><tr><td>1</td><td>-122.43</td><td>37.73</td><td>52</td><td>1494</td><td>306</td><td>1463</td><td>360</td><td>3.1786</td><td>222600</td><td>NEAR BAY</td></tr><tr><td>2</td><td>-117.93</td><td>33.88</td><td>52</td><td>2157</td><td>362</td><td>1001</td><td>373</td><td>5.1237</td><td>240000</td><td>&lt;1H OCEAN</td></tr><tr><td>3</td><td>-122.41</td><td>37.8</td><td>52</td><td>3278</td><td>775</td><td>1279</td><td>709</td><td>5.4378</td><td>500001</td><td>NEAR BAY</td></tr><tr><td>4</td><td>-122.41</td><td>37.8</td><td>52</td><td>2618</td><td>611</td><td>1328</td><td>559</td><td>4.1607</td><td>350000</td><td>NEAR BAY</td></tr><tr><td>5</td><td>-123.02</td><td>38.46</td><td>52</td><td>2154</td><td>499</td><td>524</td><td>259</td><td>2.0556</td><td>120000</td><td>NEAR OCEAN</td></tr><tr><td>6</td><td>-122.45</td><td>37.72</td><td>52</td><td>1729</td><td>319</td><td>890</td><td>300</td><td>4.3036</td><td>261800</td><td>NEAR BAY</td></tr><tr><td>7</td><td>-117.93</td><td>33.87</td><td>52</td><td>950</td><td>229</td><td>429</td><td>185</td><td>2.315</td><td>182100</td><td>&lt;1H OCEAN</td></tr><tr><td>8</td><td>-118.32</td><td>33.97</td><td>52</td><td>1778</td><td>320</td><td>795</td><td>279</td><td>3.5114</td><td>138800</td><td>&lt;1H OCEAN</td></tr><tr><td>9</td><td>-118.14</td><td>34.17</td><td>52</td><td>2687</td><td>600</td><td>1716</td><td>544</td><td>2.7201</td><td>205700</td><td>&lt;1H OCEAN</td></tr></tbody></table>"
      ]
     },
     "execution_count": 123,
     "metadata": {},
     "output_type": "execute_result"
    }
   ],
   "source": [
    "data.Sort(\"housing_median_age\", false)"
   ]
  },
  {
   "cell_type": "code",
   "execution_count": 89,
   "metadata": {},
   "outputs": [
    {
     "data": {
      "text/html": [
       "<table><thead><th><i>index</i></th><th>ocean_proximity</th><th>longitude</th><th>latitude</th><th>housing_median_age</th><th>total_rooms</th><th>total_bedrooms</th><th>population</th><th>households</th><th>median_income</th><th>median_house_value</th></thead><tbody><tr><td>0</td><td>NEAR BAY</td><td>2270</td><td>2270</td><td>2270</td><td>2270</td><td>2270</td><td>2270</td><td>2270</td><td>2270</td><td>2270</td></tr><tr><td>1</td><td>&lt;1H OCEAN</td><td>9034</td><td>9034</td><td>9034</td><td>9034</td><td>9034</td><td>9034</td><td>9034</td><td>9034</td><td>9034</td></tr><tr><td>2</td><td>INLAND</td><td>6496</td><td>6496</td><td>6496</td><td>6496</td><td>6496</td><td>6496</td><td>6496</td><td>6496</td><td>6496</td></tr><tr><td>3</td><td>NEAR OCEAN</td><td>2628</td><td>2628</td><td>2628</td><td>2628</td><td>2628</td><td>2628</td><td>2628</td><td>2628</td><td>2628</td></tr><tr><td>4</td><td>ISLAND</td><td>5</td><td>5</td><td>5</td><td>5</td><td>5</td><td>5</td><td>5</td><td>5</td><td>5</td></tr></tbody></table>"
      ]
     },
     "execution_count": 89,
     "metadata": {},
     "output_type": "execute_result"
    }
   ],
   "source": [
    "data.GroupBy(\"ocean_proximity\").Count()"
   ]
  },
  {
   "cell_type": "code",
   "execution_count": 121,
   "metadata": {},
   "outputs": [
    {
     "data": {
      "text/html": [
       "<table><thead><th><i>index</i></th><th>longitude</th><th>latitude</th><th>housing_median_age</th><th>total_rooms</th><th>total_bedrooms</th><th>population</th><th>households</th><th>median_income</th><th>median_house_value</th><th>ocean_proximity</th></thead><tbody><tr><td>0</td><td>-122.27</td><td>37.8</td><td>52</td><td>249</td><td>78</td><td>396</td><td>85</td><td>1.2434</td><td>500001</td><td>NEAR BAY</td></tr><tr><td>1</td><td>-122.25</td><td>37.87</td><td>52</td><td>609</td><td>236</td><td>1349</td><td>250</td><td>1.1696</td><td>500001</td><td>NEAR BAY</td></tr><tr><td>2</td><td>-122.24</td><td>37.86</td><td>52</td><td>1668</td><td>225</td><td>517</td><td>214</td><td>7.8521</td><td>500001</td><td>NEAR BAY</td></tr><tr><td>3</td><td>-122.24</td><td>37.85</td><td>52</td><td>3726</td><td>474</td><td>1366</td><td>496</td><td>9.3959</td><td>500001</td><td>NEAR BAY</td></tr><tr><td>4</td><td>-122.23</td><td>37.83</td><td>52</td><td>2990</td><td>379</td><td>947</td><td>361</td><td>7.8772</td><td>500001</td><td>NEAR BAY</td></tr><tr><td>5</td><td>-122.22</td><td>37.82</td><td>39</td><td>2492</td><td>310</td><td>808</td><td>315</td><td>11.8603</td><td>500001</td><td>NEAR BAY</td></tr><tr><td>6</td><td>-122.22</td><td>37.82</td><td>42</td><td>2991</td><td>335</td><td>1018</td><td>335</td><td>13.499</td><td>500001</td><td>NEAR BAY</td></tr><tr><td>7</td><td>-122.23</td><td>37.82</td><td>52</td><td>3242</td><td>366</td><td>1001</td><td>352</td><td>12.2138</td><td>500001</td><td>NEAR BAY</td></tr><tr><td>8</td><td>-122.23</td><td>37.82</td><td>52</td><td>3494</td><td>396</td><td>1192</td><td>383</td><td>12.3804</td><td>500001</td><td>NEAR BAY</td></tr><tr><td>9</td><td>-122.23</td><td>37.82</td><td>52</td><td>1611</td><td>203</td><td>556</td><td>179</td><td>8.7477</td><td>500001</td><td>NEAR BAY</td></tr></tbody></table>"
      ]
     },
     "execution_count": 121,
     "metadata": {},
     "output_type": "execute_result"
    }
   ],
   "source": [
    "var filtered = data[data[\"median_house_value\"].ElementwiseGreaterThan(500000)];\n",
    "filtered"
   ]
  }
 ],
 "metadata": {
  "kernelspec": {
   "display_name": ".NET (C#)",
   "language": "C#",
   "name": ".net-csharp"
  },
  "language_info": {
   "file_extension": ".cs",
   "mimetype": "text/x-csharp",
   "name": "C#",
   "pygments_lexer": "csharp",
   "version": "7.3"
  }
 },
 "nbformat": 4,
 "nbformat_minor": 2
}
