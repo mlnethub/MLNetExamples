{
 "cells": [
  {
   "cell_type": "code",
   "execution_count": 1,
   "metadata": {},
   "outputs": [
    {
     "data": {
      "text/html": [
       "\r\n",
       "<div>\r\n",
       "    <div id='dotnet-interactive-this-cell-20876.e967ac95afc141289e066c004e542ddc' style='display: none'>\r\n",
       "        The below script needs to be able to find the current output cell; this is an easy method to get it.\r\n",
       "    </div>\r\n",
       "    <script type='text/javascript'>\r\n",
       "// ensure `require` is available globally\r\n",
       "if (typeof require !== typeof Function || typeof require.config !== typeof Function) {\r\n",
       "    let require_script = document.createElement('script');\r\n",
       "    require_script.setAttribute('src', 'https://cdnjs.cloudflare.com/ajax/libs/require.js/2.3.6/require.min.js');\r\n",
       "    require_script.setAttribute('type', 'text/javascript');\r\n",
       "    require_script.onload = function () {\r\n",
       "        loadDotnetInteractiveApi();\r\n",
       "    };\r\n",
       "\r\n",
       "    document.getElementsByTagName('head')[0].appendChild(require_script);\r\n",
       "}\r\n",
       "else {\r\n",
       "    loadDotnetInteractiveApi();\r\n",
       "}\r\n",
       "\r\n",
       "async function probeAddresses(probingAddresses) {\r\n",
       "    function timeout(ms, promise) {\r\n",
       "        return new Promise(function (resolve, reject) {\r\n",
       "            setTimeout(function () {\r\n",
       "                reject(new Error('timeout'))\r\n",
       "            }, ms)\r\n",
       "            promise.then(resolve, reject)\r\n",
       "        })\r\n",
       "    }\r\n",
       "\r\n",
       "    if (Array.isArray(probingAddresses)) {\r\n",
       "        for (let i = 0; i < probingAddresses.length; i++) {\r\n",
       "\r\n",
       "            let rootUrl = probingAddresses[i];\r\n",
       "\r\n",
       "            if (!rootUrl.endsWith('/')) {\r\n",
       "                rootUrl = `${rootUrl}/`;\r\n",
       "            }\r\n",
       "\r\n",
       "            try {\r\n",
       "                let response = await timeout(1000, fetch(`${rootUrl}discovery`, {\r\n",
       "                    method: 'POST',\r\n",
       "                    cache: 'no-cache',\r\n",
       "                    mode: 'cors',\r\n",
       "                    timeout: 1000,\r\n",
       "                    headers: {\r\n",
       "                        'Content-Type': 'text/plain'\r\n",
       "                    },\r\n",
       "                    body: probingAddresses[i]\r\n",
       "                }));\r\n",
       "\r\n",
       "                if (response.status == 200) {\r\n",
       "                    return rootUrl;\r\n",
       "                }\r\n",
       "            }\r\n",
       "            catch (e) { }\r\n",
       "        }\r\n",
       "    }\r\n",
       "}\r\n",
       "\r\n",
       "function loadDotnetInteractiveApi() {\r\n",
       "    probeAddresses([\"http://10.0.75.1:1000/\", \"http://169.254.80.80:1000/\", \"http://192.168.1.204:1000/\", \"http://172.17.145.17:1000/\", \"http://127.0.0.1:1000/\"])\r\n",
       "        .then((root) => {\r\n",
       "            // use probing to find host url and api resources\r\n",
       "            // load interactive helpers and language services\r\n",
       "            let dotnet_require = require.config({\r\n",
       "                context: '20876.e967ac95afc141289e066c004e542ddc',\r\n",
       "                paths: {\r\n",
       "                    'dotnet-interactive': `${root}resources`\r\n",
       "                }\r\n",
       "            }) || require;\r\n",
       "            if (!window.dotnet_require) {\r\n",
       "                window.dotnet_require = dotnet_require;\r\n",
       "            }\r\n",
       "        \r\n",
       "            dotnet_require([\r\n",
       "                    'dotnet-interactive/dotnet-interactive'\r\n",
       "                ],\r\n",
       "                function (dotnet) {\r\n",
       "                    dotnet.init(window);\r\n",
       "                },\r\n",
       "                function (error) {\r\n",
       "                    console.log(error);\r\n",
       "                }\r\n",
       "            );\r\n",
       "        })\r\n",
       "        .catch(error => {console.log(error);});\r\n",
       "    }\r\n",
       "    </script>\r\n",
       "</div>"
      ]
     },
     "metadata": {},
     "output_type": "display_data"
    },
    {
     "data": {
      "text/plain": [
       "Installed package Microsoft.ML version 1.5.2"
      ]
     },
     "metadata": {},
     "output_type": "display_data"
    }
   ],
   "source": [
    "#r \"nuget:Microsoft.ML\""
   ]
  },
  {
   "cell_type": "code",
   "execution_count": 2,
   "metadata": {},
   "outputs": [],
   "source": [
    "using Microsoft.ML;"
   ]
  },
  {
   "cell_type": "code",
   "execution_count": 3,
   "metadata": {},
   "outputs": [],
   "source": [
    "var context = new MLContext();"
   ]
  },
  {
   "cell_type": "code",
   "execution_count": 4,
   "metadata": {},
   "outputs": [],
   "source": [
    "using Microsoft.ML.Data;\n",
    "\n",
    "class BankInput\n",
    "{\n",
    "    [LoadColumn(0)]\n",
    "    public float Age { get; set; }\n",
    "    [LoadColumn(1)]\n",
    "    public string Job { get; set; }\n",
    "    [LoadColumn(2)]\n",
    "    public string Marital { get; set; }\n",
    "    [LoadColumn(3)]\n",
    "    public string Education { get; set; }\n",
    "    [LoadColumn(4)]\n",
    "    public string Default { get; set; }\n",
    "    [LoadColumn(5)]\n",
    "    public float Balance { get; set; }\n",
    "    [LoadColumn(6)]\n",
    "    public string Housing  { get; set; }\n",
    "    [LoadColumn(7)]\n",
    "    public string Loan { get; set; }\n",
    "    [LoadColumn(8)]\n",
    "    public string Contact { get; set; }\n",
    "    [LoadColumn(9)]\n",
    "    public float Day { get; set; }\n",
    "    [LoadColumn(10)]\n",
    "    public string Month { get; set; }\n",
    "    [LoadColumn(11)]\n",
    "    public float Duration { get; set; }\n",
    "    [LoadColumn(12)]\n",
    "    public float Campaign { get; set; }\n",
    "    [LoadColumn(13)]\n",
    "    public float PDays { get; set; }\n",
    "    [LoadColumn(14)]\n",
    "    public float Previous { get; set; }\n",
    "    [LoadColumn(15)]\n",
    "    public string POutcome { get; set; }\n",
    "    [LoadColumn(16)]\n",
    "    public string Y { get; set; }\n",
    "}"
   ]
  },
  {
   "cell_type": "code",
   "execution_count": 5,
   "metadata": {},
   "outputs": [],
   "source": [
    "var data = context.Data.LoadFromTextFile<BankInput>(\"./bank.csv\", hasHeader: true, separatorChar: ';');"
   ]
  },
  {
   "cell_type": "code",
   "execution_count": 6,
   "metadata": {},
   "outputs": [
    {
     "data": {
      "text/html": [
       "<table><thead><tr><th><i>index</i></th><th>Values</th></tr></thead><tbody><tr><td>0</td><td>[ Age: 30, Job: unemployed, Marital: married, Education: primary, Default: no, Balance: 1787, Housing: no, Loan: no, Contact: cellular, Day: 19, Month: oct, Duration: 79, Campaign: 1, PDays: -1, Previous: 0, POutcome: unknown, Y: no ]</td></tr><tr><td>1</td><td>[ Age: 33, Job: services, Marital: married, Education: secondary, Default: no, Balance: 4789, Housing: yes, Loan: yes, Contact: cellular, Day: 11, Month: may, Duration: 220, Campaign: 1, PDays: 339, Previous: 4, POutcome: failure, Y: no ]</td></tr><tr><td>2</td><td>[ Age: 35, Job: management, Marital: single, Education: tertiary, Default: no, Balance: 1350, Housing: yes, Loan: no, Contact: cellular, Day: 16, Month: apr, Duration: 185, Campaign: 1, PDays: 330, Previous: 1, POutcome: failure, Y: no ]</td></tr><tr><td>3</td><td>[ Age: 30, Job: management, Marital: married, Education: tertiary, Default: no, Balance: 1476, Housing: yes, Loan: yes, Contact: unknown, Day: 3, Month: jun, Duration: 199, Campaign: 4, PDays: -1, Previous: 0, POutcome: unknown, Y: no ]</td></tr><tr><td>4</td><td>[ Age: 59, Job: blue-collar, Marital: married, Education: secondary, Default: no, Balance: 0, Housing: yes, Loan: no, Contact: unknown, Day: 5, Month: may, Duration: 226, Campaign: 1, PDays: -1, Previous: 0, POutcome: unknown, Y: no ]</td></tr><tr><td>5</td><td>[ Age: 35, Job: management, Marital: single, Education: tertiary, Default: no, Balance: 747, Housing: no, Loan: no, Contact: cellular, Day: 23, Month: feb, Duration: 141, Campaign: 2, PDays: 176, Previous: 3, POutcome: failure, Y: no ]</td></tr><tr><td>6</td><td>[ Age: 36, Job: self-employed, Marital: married, Education: tertiary, Default: no, Balance: 307, Housing: yes, Loan: no, Contact: cellular, Day: 14, Month: may, Duration: 341, Campaign: 1, PDays: 330, Previous: 2, POutcome: other, Y: no ]</td></tr><tr><td>7</td><td>[ Age: 39, Job: technician, Marital: married, Education: secondary, Default: no, Balance: 147, Housing: yes, Loan: no, Contact: cellular, Day: 6, Month: may, Duration: 151, Campaign: 2, PDays: -1, Previous: 0, POutcome: unknown, Y: no ]</td></tr><tr><td>8</td><td>[ Age: 41, Job: entrepreneur, Marital: married, Education: tertiary, Default: no, Balance: 221, Housing: yes, Loan: no, Contact: unknown, Day: 14, Month: may, Duration: 57, Campaign: 2, PDays: -1, Previous: 0, POutcome: unknown, Y: no ]</td></tr><tr><td>9</td><td>[ Age: 43, Job: services, Marital: married, Education: primary, Default: no, Balance: -88, Housing: yes, Loan: yes, Contact: cellular, Day: 17, Month: apr, Duration: 313, Campaign: 1, PDays: 147, Previous: 2, POutcome: failure, Y: no ]</td></tr><tr><td>10</td><td>[ Age: 39, Job: services, Marital: married, Education: secondary, Default: no, Balance: 9374, Housing: yes, Loan: no, Contact: unknown, Day: 20, Month: may, Duration: 273, Campaign: 1, PDays: -1, Previous: 0, POutcome: unknown, Y: no ]</td></tr><tr><td>11</td><td>[ Age: 43, Job: admin., Marital: married, Education: secondary, Default: no, Balance: 264, Housing: yes, Loan: no, Contact: cellular, Day: 17, Month: apr, Duration: 113, Campaign: 2, PDays: -1, Previous: 0, POutcome: unknown, Y: no ]</td></tr><tr><td>12</td><td>[ Age: 36, Job: technician, Marital: married, Education: tertiary, Default: no, Balance: 1109, Housing: no, Loan: no, Contact: cellular, Day: 13, Month: aug, Duration: 328, Campaign: 2, PDays: -1, Previous: 0, POutcome: unknown, Y: no ]</td></tr><tr><td>13</td><td>[ Age: 20, Job: student, Marital: single, Education: secondary, Default: no, Balance: 502, Housing: no, Loan: no, Contact: cellular, Day: 30, Month: apr, Duration: 261, Campaign: 1, PDays: -1, Previous: 0, POutcome: unknown, Y: yes ]</td></tr><tr><td>14</td><td>[ Age: 31, Job: blue-collar, Marital: married, Education: secondary, Default: no, Balance: 360, Housing: yes, Loan: yes, Contact: cellular, Day: 29, Month: jan, Duration: 89, Campaign: 1, PDays: 241, Previous: 1, POutcome: failure, Y: no ]</td></tr><tr><td>15</td><td>[ Age: 40, Job: management, Marital: married, Education: tertiary, Default: no, Balance: 194, Housing: no, Loan: yes, Contact: cellular, Day: 29, Month: aug, Duration: 189, Campaign: 2, PDays: -1, Previous: 0, POutcome: unknown, Y: no ]</td></tr><tr><td>16</td><td>[ Age: 56, Job: technician, Marital: married, Education: secondary, Default: no, Balance: 4073, Housing: no, Loan: no, Contact: cellular, Day: 27, Month: aug, Duration: 239, Campaign: 5, PDays: -1, Previous: 0, POutcome: unknown, Y: no ]</td></tr><tr><td>17</td><td>[ Age: 37, Job: admin., Marital: single, Education: tertiary, Default: no, Balance: 2317, Housing: yes, Loan: no, Contact: cellular, Day: 20, Month: apr, Duration: 114, Campaign: 1, PDays: 152, Previous: 2, POutcome: failure, Y: no ]</td></tr><tr><td>18</td><td>[ Age: 25, Job: blue-collar, Marital: single, Education: primary, Default: no, Balance: -221, Housing: yes, Loan: no, Contact: unknown, Day: 23, Month: may, Duration: 250, Campaign: 1, PDays: -1, Previous: 0, POutcome: unknown, Y: no ]</td></tr><tr><td>19</td><td>[ Age: 31, Job: services, Marital: married, Education: secondary, Default: no, Balance: 132, Housing: no, Loan: no, Contact: cellular, Day: 7, Month: jul, Duration: 148, Campaign: 1, PDays: 152, Previous: 1, POutcome: other, Y: no ]</td></tr><tr><td colspan=\"2\">(80 more)</td></tr></tbody></table>"
      ]
     },
     "execution_count": 6,
     "metadata": {},
     "output_type": "execute_result"
    }
   ],
   "source": [
    "data.Preview().RowView"
   ]
  },
  {
   "cell_type": "code",
   "execution_count": 14,
   "metadata": {},
   "outputs": [
    {
     "data": {
      "text/html": [
       "<table><thead><tr><th><i>index</i></th><th>Column</th><th>Values</th></tr></thead><tbody><tr><td>0</td><td>{ Microsoft.ML.DataViewSchema+Column: Name: Age, Index: 0, IsHidden: False, Type: { Microsoft.ML.Data.NumberDataViewType: RawType: System.Single }, Annotations: { Microsoft.ML.DataViewSchema+Annotations: Schema: [  ] } }</td><td>[ 30, 33, 35, 30, 59, 35, 36, 39, 41, 43, 39, 43, 36, 20, 31, 40, 56, 37, 25, 31 ... (80 more) ]</td></tr><tr><td>1</td><td>{ Microsoft.ML.DataViewSchema+Column: Name: Job, Index: 1, IsHidden: False, Type: { Microsoft.ML.Data.TextDataViewType: RawType: System.ReadOnlyMemory&lt;System.Char&gt; }, Annotations: { Microsoft.ML.DataViewSchema+Annotations: Schema: [  ] } }</td><td>[ unemployed, services, management, management, blue-collar, management, self-employed, technician, entrepreneur, services, services, admin., technician, student, blue-collar, management, technician, admin., blue-collar, services ... (80 more) ]</td></tr><tr><td>2</td><td>{ Microsoft.ML.DataViewSchema+Column: Name: Marital, Index: 2, IsHidden: False, Type: { Microsoft.ML.Data.TextDataViewType: RawType: System.ReadOnlyMemory&lt;System.Char&gt; }, Annotations: { Microsoft.ML.DataViewSchema+Annotations: Schema: [  ] } }</td><td>[ married, married, single, married, married, single, married, married, married, married, married, married, married, single, married, married, married, single, single, married ... (80 more) ]</td></tr><tr><td>3</td><td>{ Microsoft.ML.DataViewSchema+Column: Name: Education, Index: 3, IsHidden: False, Type: { Microsoft.ML.Data.TextDataViewType: RawType: System.ReadOnlyMemory&lt;System.Char&gt; }, Annotations: { Microsoft.ML.DataViewSchema+Annotations: Schema: [  ] } }</td><td>[ primary, secondary, tertiary, tertiary, secondary, tertiary, tertiary, secondary, tertiary, primary, secondary, secondary, tertiary, secondary, secondary, tertiary, secondary, tertiary, primary, secondary ... (80 more) ]</td></tr><tr><td>4</td><td>{ Microsoft.ML.DataViewSchema+Column: Name: Default, Index: 4, IsHidden: False, Type: { Microsoft.ML.Data.TextDataViewType: RawType: System.ReadOnlyMemory&lt;System.Char&gt; }, Annotations: { Microsoft.ML.DataViewSchema+Annotations: Schema: [  ] } }</td><td>[ no, no, no, no, no, no, no, no, no, no, no, no, no, no, no, no, no, no, no, no ... (80 more) ]</td></tr><tr><td>5</td><td>{ Microsoft.ML.DataViewSchema+Column: Name: Balance, Index: 5, IsHidden: False, Type: { Microsoft.ML.Data.NumberDataViewType: RawType: System.Single }, Annotations: { Microsoft.ML.DataViewSchema+Annotations: Schema: [  ] } }</td><td>[ 1787, 4789, 1350, 1476, 0, 747, 307, 147, 221, -88, 9374, 264, 1109, 502, 360, 194, 4073, 2317, -221, 132 ... (80 more) ]</td></tr><tr><td>6</td><td>{ Microsoft.ML.DataViewSchema+Column: Name: Housing, Index: 6, IsHidden: False, Type: { Microsoft.ML.Data.TextDataViewType: RawType: System.ReadOnlyMemory&lt;System.Char&gt; }, Annotations: { Microsoft.ML.DataViewSchema+Annotations: Schema: [  ] } }</td><td>[ no, yes, yes, yes, yes, no, yes, yes, yes, yes, yes, yes, no, no, yes, no, no, yes, yes, no ... (80 more) ]</td></tr><tr><td>7</td><td>{ Microsoft.ML.DataViewSchema+Column: Name: Loan, Index: 7, IsHidden: False, Type: { Microsoft.ML.Data.TextDataViewType: RawType: System.ReadOnlyMemory&lt;System.Char&gt; }, Annotations: { Microsoft.ML.DataViewSchema+Annotations: Schema: [  ] } }</td><td>[ no, yes, no, yes, no, no, no, no, no, yes, no, no, no, no, yes, yes, no, no, no, no ... (80 more) ]</td></tr><tr><td>8</td><td>{ Microsoft.ML.DataViewSchema+Column: Name: Contact, Index: 8, IsHidden: False, Type: { Microsoft.ML.Data.TextDataViewType: RawType: System.ReadOnlyMemory&lt;System.Char&gt; }, Annotations: { Microsoft.ML.DataViewSchema+Annotations: Schema: [  ] } }</td><td>[ cellular, cellular, cellular, unknown, unknown, cellular, cellular, cellular, unknown, cellular, unknown, cellular, cellular, cellular, cellular, cellular, cellular, cellular, unknown, cellular ... (80 more) ]</td></tr><tr><td>9</td><td>{ Microsoft.ML.DataViewSchema+Column: Name: Day, Index: 9, IsHidden: False, Type: { Microsoft.ML.Data.NumberDataViewType: RawType: System.Single }, Annotations: { Microsoft.ML.DataViewSchema+Annotations: Schema: [  ] } }</td><td>[ 19, 11, 16, 3, 5, 23, 14, 6, 14, 17, 20, 17, 13, 30, 29, 29, 27, 20, 23, 7 ... (80 more) ]</td></tr><tr><td>10</td><td>{ Microsoft.ML.DataViewSchema+Column: Name: Month, Index: 10, IsHidden: False, Type: { Microsoft.ML.Data.TextDataViewType: RawType: System.ReadOnlyMemory&lt;System.Char&gt; }, Annotations: { Microsoft.ML.DataViewSchema+Annotations: Schema: [  ] } }</td><td>[ oct, may, apr, jun, may, feb, may, may, may, apr, may, apr, aug, apr, jan, aug, aug, apr, may, jul ... (80 more) ]</td></tr><tr><td>11</td><td>{ Microsoft.ML.DataViewSchema+Column: Name: Duration, Index: 11, IsHidden: False, Type: { Microsoft.ML.Data.NumberDataViewType: RawType: System.Single }, Annotations: { Microsoft.ML.DataViewSchema+Annotations: Schema: [  ] } }</td><td>[ 79, 220, 185, 199, 226, 141, 341, 151, 57, 313, 273, 113, 328, 261, 89, 189, 239, 114, 250, 148 ... (80 more) ]</td></tr><tr><td>12</td><td>{ Microsoft.ML.DataViewSchema+Column: Name: Campaign, Index: 12, IsHidden: False, Type: { Microsoft.ML.Data.NumberDataViewType: RawType: System.Single }, Annotations: { Microsoft.ML.DataViewSchema+Annotations: Schema: [  ] } }</td><td>[ 1, 1, 1, 4, 1, 2, 1, 2, 2, 1, 1, 2, 2, 1, 1, 2, 5, 1, 1, 1 ... (80 more) ]</td></tr><tr><td>13</td><td>{ Microsoft.ML.DataViewSchema+Column: Name: PDays, Index: 13, IsHidden: False, Type: { Microsoft.ML.Data.NumberDataViewType: RawType: System.Single }, Annotations: { Microsoft.ML.DataViewSchema+Annotations: Schema: [  ] } }</td><td>[ -1, 339, 330, -1, -1, 176, 330, -1, -1, 147, -1, -1, -1, -1, 241, -1, -1, 152, -1, 152 ... (80 more) ]</td></tr><tr><td>14</td><td>{ Microsoft.ML.DataViewSchema+Column: Name: Previous, Index: 14, IsHidden: False, Type: { Microsoft.ML.Data.NumberDataViewType: RawType: System.Single }, Annotations: { Microsoft.ML.DataViewSchema+Annotations: Schema: [  ] } }</td><td>[ 0, 4, 1, 0, 0, 3, 2, 0, 0, 2, 0, 0, 0, 0, 1, 0, 0, 2, 0, 1 ... (80 more) ]</td></tr><tr><td>15</td><td>{ Microsoft.ML.DataViewSchema+Column: Name: POutcome, Index: 15, IsHidden: False, Type: { Microsoft.ML.Data.TextDataViewType: RawType: System.ReadOnlyMemory&lt;System.Char&gt; }, Annotations: { Microsoft.ML.DataViewSchema+Annotations: Schema: [  ] } }</td><td>[ unknown, failure, failure, unknown, unknown, failure, other, unknown, unknown, failure, unknown, unknown, unknown, unknown, failure, unknown, unknown, failure, unknown, other ... (80 more) ]</td></tr><tr><td>16</td><td>{ Microsoft.ML.DataViewSchema+Column: Name: Y, Index: 16, IsHidden: False, Type: { Microsoft.ML.Data.TextDataViewType: RawType: System.ReadOnlyMemory&lt;System.Char&gt; }, Annotations: { Microsoft.ML.DataViewSchema+Annotations: Schema: [  ] } }</td><td>[ no, no, no, no, no, no, no, no, no, no, no, no, no, yes, no, no, no, no, no, no ... (80 more) ]</td></tr></tbody></table>"
      ]
     },
     "execution_count": 14,
     "metadata": {},
     "output_type": "execute_result"
    }
   ],
   "source": [
    "data.Preview().ColumnView"
   ]
  },
  {
   "cell_type": "code",
   "execution_count": 7,
   "metadata": {},
   "outputs": [
    {
     "name": "stdout",
     "output_type": "stream",
     "text": [
      "30 - unemployed\n",
      "33 - services\n",
      "35 - management\n",
      "30 - management\n",
      "59 - blue-collar\n",
      "35 - management\n",
      "36 - self-employed\n",
      "39 - technician\n",
      "41 - entrepreneur\n",
      "43 - services\n"
     ]
    }
   ],
   "source": [
    "var rows = context.Data.TakeRows(data, 10);\n",
    "\n",
    "var preview = context.Data.CreateEnumerable<BankInput>(rows, reuseRowObject: false);\n",
    "\n",
    "foreach (var item in preview)\n",
    "{\n",
    "    Console.Write($\"{item.Age} - {item.Job}\");\n",
    "    Console.WriteLine(\"\");\n",
    "}"
   ]
  },
  {
   "cell_type": "code",
   "execution_count": 8,
   "metadata": {},
   "outputs": [],
   "source": [
    "public void Preview(IDataView data)\n",
    "{\n",
    "  var rows = context.Data.TakeRows(data, 10);\n",
    "\n",
    "  var preview = context.Data.CreateEnumerable<BankInput>(rows, reuseRowObject: false);\n",
    "\n",
    "  foreach (var item in preview)\n",
    "  { \n",
    "    Console.Write($\"{item.Age} - {item.Job}\");\n",
    "    Console.WriteLine(\"\");\n",
    "  }\n",
    "}"
   ]
  },
  {
   "cell_type": "code",
   "execution_count": 9,
   "metadata": {},
   "outputs": [
    {
     "name": "stdout",
     "output_type": "stream",
     "text": [
      "30 - unemployed\n",
      "33 - services\n",
      "35 - management\n",
      "30 - management\n",
      "59 - blue-collar\n",
      "35 - management\n",
      "36 - self-employed\n",
      "39 - technician\n",
      "41 - entrepreneur\n",
      "43 - services\n"
     ]
    }
   ],
   "source": [
    "Preview(data)"
   ]
  },
  {
   "cell_type": "code",
   "execution_count": 10,
   "metadata": {},
   "outputs": [
    {
     "name": "stdout",
     "output_type": "stream",
     "text": [
      "20 - student\n",
      "25 - blue-collar\n",
      "26 - housemaid\n",
      "23 - services\n",
      "26 - blue-collar\n",
      "29 - technician\n",
      "27 - admin.\n",
      "28 - admin.\n",
      "27 - services\n",
      "27 - housemaid\n"
     ]
    }
   ],
   "source": [
    "var filterByColumn = context.Data.FilterRowsByColumn(data, \"Age\", 20, 30);\n",
    "\n",
    "Preview(filterByColumn)"
   ]
  },
  {
   "cell_type": "code",
   "execution_count": 11,
   "metadata": {},
   "outputs": [
    {
     "name": "stdout",
     "output_type": "stream",
     "text": [
      "30 - unemployed\n",
      "33 - services\n",
      "35 - management\n",
      "30 - management\n",
      "59 - blue-collar\n",
      "35 - management\n",
      "36 - self-employed\n",
      "39 - technician\n",
      "41 - entrepreneur\n",
      "43 - services\n"
     ]
    }
   ],
   "source": [
    "var filterMissingValues = context.Data.FilterRowsByMissingValues(data, \"Age\");\n",
    "\n",
    "Preview(filterMissingValues)"
   ]
  },
  {
   "cell_type": "code",
   "execution_count": 13,
   "metadata": {},
   "outputs": [
    {
     "name": "stdout",
     "output_type": "stream",
     "text": [
      "30 - unemployed\n",
      "33 - services\n",
      "30 - management\n",
      "59 - blue-collar\n",
      "36 - self-employed\n",
      "39 - technician\n",
      "41 - entrepreneur\n",
      "43 - services\n",
      "39 - services\n",
      "43 - admin.\n"
     ]
    }
   ],
   "source": [
    "var filter = context.Data.FilterByCustomPredicate<BankInput>(data, input =>\n",
    "            {\n",
    "                return input.Age == 35;\n",
    "            });\n",
    "            \n",
    "Preview(filter)"
   ]
  }
 ],
 "metadata": {
  "kernelspec": {
   "display_name": ".NET (C#)",
   "language": "C#",
   "name": ".net-csharp"
  },
  "language_info": {
   "file_extension": ".cs",
   "mimetype": "text/x-csharp",
   "name": "C#",
   "pygments_lexer": "csharp",
   "version": "8.0"
  }
 },
 "nbformat": 4,
 "nbformat_minor": 2
}
