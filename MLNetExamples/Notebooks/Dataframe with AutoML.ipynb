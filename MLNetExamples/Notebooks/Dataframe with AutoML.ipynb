{
 "cells": [
  {
   "cell_type": "code",
   "execution_count": null,
   "metadata": {},
   "outputs": [
    {
     "data": {
      "text/html": [
       "Attempting to install package Microsoft.ML, version 1.4.0-preview..........................................done!"
      ]
     },
     "metadata": {},
     "output_type": "display_data"
    },
    {
     "data": {
      "text/html": [
       "Successfully added reference to package Microsoft.ML, version 1.4.0-preview"
      ]
     },
     "metadata": {},
     "output_type": "display_data"
    },
    {
     "data": {
      "text/html": [
       "Attempting to install package Microsoft.ML.AutoML...............done!"
      ]
     },
     "metadata": {},
     "output_type": "display_data"
    },
    {
     "data": {
      "text/html": [
       "Successfully added reference to package Microsoft.ML.AutoML, version 0.15.1"
      ]
     },
     "metadata": {},
     "output_type": "display_data"
    },
    {
     "data": {
      "text/html": [
       "Attempting to install package Microsoft.Data.DataFrame, version 0.1.1-e190920-1............done!"
      ]
     },
     "metadata": {},
     "output_type": "display_data"
    },
    {
     "data": {
      "text/html": [
       "Successfully added reference to package Microsoft.Data.DataFrame, version 0.1.1-e190920-1"
      ]
     },
     "metadata": {},
     "output_type": "display_data"
    }
   ],
   "source": [
    "#r \"nuget:Microsoft.ML,1.4.0-preview\"\n",
    "#r \"nuget:Microsoft.ML.AutoML\"\n",
    "#r \"nuget:Microsoft.Data.DataFrame,0.1.1-e190920-1\""
   ]
  },
  {
   "cell_type": "code",
   "execution_count": 2,
   "metadata": {},
   "outputs": [],
   "source": [
    "using Microsoft.Data;\n",
    "using Microsoft.ML;\n",
    "using Microsoft.ML.Data;\n",
    "using Microsoft.ML.AutoML;"
   ]
  },
  {
   "cell_type": "code",
   "execution_count": 6,
   "metadata": {},
   "outputs": [],
   "source": [
    "using Microsoft.AspNetCore.Html;\n",
    "Formatter<DataFrame>.Register((df, writer) =>\n",
    "{\n",
    "    var headers = new List<IHtmlContent>();\n",
    "    headers.Add(th(i(\"index\")));\n",
    "    headers.AddRange(df.Columns.Select(c => (IHtmlContent) th(c)));\n",
    "    var rows = new List<List<IHtmlContent>>();\n",
    "    var take = 10;\n",
    "    for (var i = 0; i < Math.Min(take, df.RowCount); i++)\n",
    "    {\n",
    "        var cells = new List<IHtmlContent>();\n",
    "        cells.Add(td(i));\n",
    "        foreach (var obj in df[i])\n",
    "        {\n",
    "            cells.Add(td(obj));\n",
    "        }\n",
    "        rows.Add(cells);\n",
    "    }\n",
    "    \n",
    "    var t = table(\n",
    "        thead(\n",
    "            headers),\n",
    "        tbody(\n",
    "            rows.Select(\n",
    "                r => tr(r))));\n",
    "    \n",
    "    writer.Write(t);\n",
    "}, \"text/html\");"
   ]
  },
  {
   "cell_type": "code",
   "execution_count": null,
   "metadata": {},
   "outputs": [],
   "source": [
    "var data = DataFrame.ReadCsv(\"./housing.csv\");\n",
    "data"
   ]
  },
  {
   "cell_type": "code",
   "execution_count": 9,
   "metadata": {},
   "outputs": [
    {
     "data": {
      "text/html": [
       "<table><thead><th><i>index</i></th><th>Description</th><th>median_house_value</th><th>median_income</th><th>households</th><th>population</th><th>total_bedrooms</th><th>total_rooms</th><th>housing_median_age</th><th>latitude</th><th>longitude</th></thead><tbody><tr><td>0</td><td>Length</td><td>20640</td><td>20640</td><td>20640</td><td>20640</td><td>20640</td><td>20640</td><td>20640</td><td>20640</td><td>20640</td></tr><tr><td>1</td><td>Max</td><td>500001</td><td>15.0001</td><td>6082</td><td>35682</td><td>6445</td><td>39320</td><td>52</td><td>41.95</td><td>-114.31</td></tr><tr><td>2</td><td>Min</td><td>14999</td><td>0.4999</td><td>1</td><td>3</td><td>0</td><td>2</td><td>1</td><td>32.54</td><td>-124.35</td></tr><tr><td>3</td><td>Mean</td><td>206854.97</td><td>3.8706622</td><td>499.53967</td><td>1425.4779</td><td>532.4762</td><td>2635.7588</td><td>28.639486</td><td>35.631866</td><td>-119.569115</td></tr></tbody></table>"
      ]
     },
     "execution_count": 9,
     "metadata": {},
     "output_type": "execute_result"
    }
   ],
   "source": [
    "data.Description()"
   ]
  },
  {
   "cell_type": "code",
   "execution_count": 23,
   "metadata": {},
   "outputs": [
    {
     "data": {
      "text/html": [
       "<table><thead><th><i>index</i></th><th>longitude</th><th>latitude</th><th>housing_median_age</th><th>total_rooms</th><th>total_bedrooms</th><th>population</th><th>households</th><th>median_income</th><th>median_house_value</th><th>ocean_proximity</th></thead><tbody><tr><td>0</td><td>-122.23</td><td>37.88</td><td>41</td><td>880</td><td>129</td><td>322</td><td>126</td><td>8.3252</td><td>452600</td><td>NEAR BAY</td></tr><tr><td>1</td><td>-122.22</td><td>37.86</td><td>21</td><td>7099</td><td>1106</td><td>2401</td><td>1138</td><td>8.3014</td><td>358500</td><td>NEAR BAY</td></tr><tr><td>2</td><td>-122.24</td><td>37.85</td><td>52</td><td>1467</td><td>190</td><td>496</td><td>177</td><td>7.2574</td><td>352100</td><td>NEAR BAY</td></tr><tr><td>3</td><td>-122.25</td><td>37.85</td><td>52</td><td>1274</td><td>235</td><td>558</td><td>219</td><td>5.6431</td><td>341300</td><td>NEAR BAY</td></tr><tr><td>4</td><td>-122.25</td><td>37.85</td><td>52</td><td>1627</td><td>280</td><td>565</td><td>259</td><td>3.8462</td><td>342200</td><td>NEAR BAY</td></tr><tr><td>5</td><td>-122.25</td><td>37.85</td><td>52</td><td>919</td><td>213</td><td>413</td><td>193</td><td>4.0368</td><td>269700</td><td>NEAR BAY</td></tr><tr><td>6</td><td>-122.25</td><td>37.84</td><td>52</td><td>2535</td><td>489</td><td>1094</td><td>514</td><td>3.6591</td><td>299200</td><td>NEAR BAY</td></tr><tr><td>7</td><td>-122.25</td><td>37.84</td><td>52</td><td>3104</td><td>687</td><td>1157</td><td>647</td><td>3.12</td><td>241400</td><td>NEAR BAY</td></tr><tr><td>8</td><td>-122.26</td><td>37.84</td><td>42</td><td>2555</td><td>665</td><td>1206</td><td>595</td><td>2.0804</td><td>226700</td><td>NEAR BAY</td></tr><tr><td>9</td><td>-122.25</td><td>37.84</td><td>52</td><td>3549</td><td>707</td><td>1551</td><td>714</td><td>3.6912</td><td>261100</td><td>NEAR BAY</td></tr><tr><td>10</td><td>-122.26</td><td>37.85</td><td>52</td><td>2202</td><td>434</td><td>910</td><td>402</td><td>3.2031</td><td>281500</td><td>NEAR BAY</td></tr><tr><td>11</td><td>-122.26</td><td>37.85</td><td>52</td><td>3503</td><td>752</td><td>1504</td><td>734</td><td>3.2705</td><td>241800</td><td>NEAR BAY</td></tr><tr><td>12</td><td>-122.26</td><td>37.85</td><td>52</td><td>2491</td><td>474</td><td>1098</td><td>468</td><td>3.075</td><td>213500</td><td>NEAR BAY</td></tr><tr><td>13</td><td>-122.26</td><td>37.84</td><td>52</td><td>696</td><td>191</td><td>345</td><td>174</td><td>2.6736</td><td>191300</td><td>NEAR BAY</td></tr><tr><td>14</td><td>-122.26</td><td>37.85</td><td>52</td><td>2643</td><td>626</td><td>1212</td><td>620</td><td>1.9167</td><td>159200</td><td>NEAR BAY</td></tr><tr><td>15</td><td>-122.26</td><td>37.85</td><td>50</td><td>1120</td><td>283</td><td>697</td><td>264</td><td>2.125</td><td>140000</td><td>NEAR BAY</td></tr><tr><td>16</td><td>-122.27</td><td>37.85</td><td>52</td><td>1966</td><td>347</td><td>793</td><td>331</td><td>2.775</td><td>152500</td><td>NEAR BAY</td></tr><tr><td>17</td><td>-122.27</td><td>37.85</td><td>52</td><td>1228</td><td>293</td><td>648</td><td>303</td><td>2.1202</td><td>155500</td><td>NEAR BAY</td></tr><tr><td>18</td><td>-122.26</td><td>37.84</td><td>50</td><td>2239</td><td>455</td><td>990</td><td>419</td><td>1.9911</td><td>158700</td><td>NEAR BAY</td></tr><tr><td>19</td><td>-122.27</td><td>37.84</td><td>52</td><td>1503</td><td>298</td><td>690</td><td>275</td><td>2.6033</td><td>162900</td><td>NEAR BAY</td></tr></tbody></table>"
      ]
     },
     "execution_count": 23,
     "metadata": {},
     "output_type": "execute_result"
    }
   ],
   "source": [
    "data = data.DropNulls()"
   ]
  },
  {
   "cell_type": "code",
   "execution_count": 16,
   "metadata": {},
   "outputs": [],
   "source": [
    "var context = new MLContext();\n",
    "\n",
    "var experiment = context.Auto().CreateRegressionExperiment(maxExperimentTimeInSeconds: 10);\n",
    "\n",
    "var result = experiment.Execute((IDataView)data, labelColumnName:\"median_house_value\");"
   ]
  },
  {
   "cell_type": "code",
   "execution_count": 17,
   "metadata": {},
   "outputs": [
    {
     "data": {
      "text/plain": [
       "FastTreeRegression"
      ]
     },
     "execution_count": 17,
     "metadata": {},
     "output_type": "execute_result"
    }
   ],
   "source": [
    "result.BestRun.TrainerName"
   ]
  },
  {
   "cell_type": "code",
   "execution_count": 18,
   "metadata": {},
   "outputs": [
    {
     "data": {
      "text/plain": [
       "0.8460060103269855"
      ]
     },
     "execution_count": 18,
     "metadata": {},
     "output_type": "execute_result"
    }
   ],
   "source": [
    "result.BestRun.ValidationMetrics.RSquared"
   ]
  }
 ],
 "metadata": {
  "kernelspec": {
   "display_name": ".NET (C#)",
   "language": "C#",
   "name": ".net-csharp"
  },
  "language_info": {
   "file_extension": ".cs",
   "mimetype": "text/x-csharp",
   "name": "C#",
   "pygments_lexer": "csharp",
   "version": "7.3"
  }
 },
 "nbformat": 4,
 "nbformat_minor": 2
}
